{
 "cells": [
  {
   "cell_type": "markdown",
   "metadata": {},
   "source": [
    "# Association between covariates and PCs of gene expression data\n",
    "\n",
    "Here we perform a PCA on multi-tissue gene expression data from GTEx v6. Phenotype and RNA-seq gene expression data were downloaded from dbGaP.\n",
    "\n",
    "**Input data**\n",
    "\n",
    "* Gene expression profile: See `01_Data_preprocessing.ipynb`.\n",
    "* Cohort/experimental variable list: All cohort/experiment-related variables including,\n",
    "  * Technical variables, e.g., RNA-Seq QC metrics (e.g., mapping rates, ...), ...\n",
    "* Metadata for cohort/experimental variable: data types, ...\n",
    "\n",
    "**Preparation**\n",
    "\n",
    "Check input variables:\n",
    "\n",
    "* Drop variables with too many missing values (e.g., missing values >= 5%).\n",
    "* Set proper dtype for categorical variables, e.g., gender, batch, ..., etc.\n",
    "\n",
    "**Global MI between variables**\n",
    "\n",
    "1. Compute pair-wise MI matrix for all qualified variables using all samples.\n",
    "2. Output the matrix.\n",
    "\n",
    "**Tissue-specific covariates**\n",
    "\n",
    "For a given tissue:\n",
    "\n",
    "1. Perform PCA on its expression profile, get top $k$ PCs.\n",
    "2. Compute MI matrix between $k$ PCs and $n$ covariates using normalized mutual information.\n",
    "3. Output the matrix.\n",
    "\n",
    "**Notes**\n",
    "\n",
    "* log2-RPKM performed better than RPKM.\n",
    "\n",
    "*References*:\n",
    "\n",
    "* http://scikit-learn.org/stable/auto_examples/feature_selection/plot_f_test_vs_mi.html\n",
    "* http://scikit-learn.org/stable/modules/generated/sklearn.feature_selection.mutual_info_regression.html\n",
    "* http://scikit-learn.org/stable/modules/feature_selection.html#univariate-feature-selection"
   ]
  },
  {
   "cell_type": "code",
   "execution_count": 876,
   "metadata": {
    "collapsed": false
   },
   "outputs": [
    {
     "data": {
      "application/json": {
       "Software versions": [
        {
         "module": "Python",
         "version": "2.7.12 64bit [GCC 4.4.7 20120313 (Red Hat 4.4.7-1)]"
        },
        {
         "module": "IPython",
         "version": "5.1.0"
        },
        {
         "module": "OS",
         "version": "Linux 2.6.32 431.3.1.el6.x86_64 x86_64 with centos 6.8 Final"
        },
        {
         "module": "numpy",
         "version": "1.11.2"
        },
        {
         "module": "pandas",
         "version": "0.19.1"
        },
        {
         "module": "matplotlib",
         "version": "1.5.3"
        },
        {
         "module": "seaborn",
         "version": "0.7.1"
        },
        {
         "module": "omics",
         "version": "0.1.3"
        },
        {
         "module": "sklearn",
         "version": "0.18.1"
        }
       ]
      },
      "text/html": [
       "<table><tr><th>Software</th><th>Version</th></tr><tr><td>Python</td><td>2.7.12 64bit [GCC 4.4.7 20120313 (Red Hat 4.4.7-1)]</td></tr><tr><td>IPython</td><td>5.1.0</td></tr><tr><td>OS</td><td>Linux 2.6.32 431.3.1.el6.x86_64 x86_64 with centos 6.8 Final</td></tr><tr><td>numpy</td><td>1.11.2</td></tr><tr><td>pandas</td><td>0.19.1</td></tr><tr><td>matplotlib</td><td>1.5.3</td></tr><tr><td>seaborn</td><td>0.7.1</td></tr><tr><td>omics</td><td>0.1.3</td></tr><tr><td>sklearn</td><td>0.18.1</td></tr><tr><td colspan='2'>Fri Dec 09 02:48:58 2016 EST</td></tr></table>"
      ],
      "text/latex": [
       "\\begin{tabular}{|l|l|}\\hline\n",
       "{\\bf Software} & {\\bf Version} \\\\ \\hline\\hline\n",
       "Python & 2.7.12 64bit [GCC 4.4.7 20120313 (Red Hat 4.4.7-1)] \\\\ \\hline\n",
       "IPython & 5.1.0 \\\\ \\hline\n",
       "OS & Linux 2.6.32 431.3.1.el6.x86\\_64 x86\\_64 with centos 6.8 Final \\\\ \\hline\n",
       "numpy & 1.11.2 \\\\ \\hline\n",
       "pandas & 0.19.1 \\\\ \\hline\n",
       "matplotlib & 1.5.3 \\\\ \\hline\n",
       "seaborn & 0.7.1 \\\\ \\hline\n",
       "omics & 0.1.3 \\\\ \\hline\n",
       "sklearn & 0.18.1 \\\\ \\hline\n",
       "\\hline \\multicolumn{2}{|l|}{Fri Dec 09 02:48:58 2016 EST} \\\\ \\hline\n",
       "\\end{tabular}\n"
      ],
      "text/plain": [
       "Software versions\n",
       "Python 2.7.12 64bit [GCC 4.4.7 20120313 (Red Hat 4.4.7-1)]\n",
       "IPython 5.1.0\n",
       "OS Linux 2.6.32 431.3.1.el6.x86_64 x86_64 with centos 6.8 Final\n",
       "numpy 1.11.2\n",
       "pandas 0.19.1\n",
       "matplotlib 1.5.3\n",
       "seaborn 0.7.1\n",
       "omics 0.1.3\n",
       "sklearn 0.18.1\n",
       "Fri Dec 09 02:48:58 2016 EST"
      ]
     },
     "execution_count": 876,
     "metadata": {},
     "output_type": "execute_result"
    }
   ],
   "source": [
    "import numpy as np\n",
    "import pandas as pd\n",
    "from omics.stats.PCA import run_pca\n",
    "from omics.stats.MI import normalized_MI_matrix, MI\n",
    "\n",
    "%reload_ext version_information\n",
    "%version_information numpy, pandas, matplotlib, seaborn, omics, sklearn"
   ]
  },
  {
   "cell_type": "markdown",
   "metadata": {},
   "source": [
    "# Setup"
   ]
  },
  {
   "cell_type": "code",
   "execution_count": 184,
   "metadata": {
    "collapsed": true
   },
   "outputs": [],
   "source": [
    "# Input files from dbGaP\n",
    "EXPRESSION = \"/dev/shm/GTEx/GTEx_Data_20150112_RNAseq_RNASeQCv1.1.8_gene_rpkm.gct\"\n",
    "PHENOTYPE1 = \"../../../src/GTEx/dbGaP/phs000424.v6.pht002742.v6.p1.c1.GTEx_Subject_Phenotypes.GRU.txt\"\n",
    "PHENOTYPE2 = \"../../../src/GTEx/dbGaP/phs000424.v6.pht002743.v6.p1.c1.GTEx_Sample_Attributes.GRU.txt\"\n",
    "\n",
    "# Data to use in this study\n",
    "SAMPLE_LIST = \"../data/GTEx.samples_to_use.tsv\"\n",
    "GENE_LIST   = \"../data/GTEx.genes_to_use.tsv\"\n",
    "SUBJ_VAR_LIST = \"../../../src/GTEx/meta/subj_var_list.selected.tsv\"\n",
    "SAMP_VAR_LIST = \"../../../src/GTEx/meta/samp_var_list.selected.tsv\"\n",
    "\n",
    "# Ouptut files\n",
    "OUTPUT_PDATA = \"../data/pData.pickle\"  # parsed pData for later use\n",
    "MAPPED_PCA = \"../data/samples_x_mapped_PCs.tsv\"  # mapped PC as sample features in tissue-specific PCA\n",
    "\n",
    "GLOBAL_MI  = \"../reports/Global_MI_btw_covariates.unnormalized.tsv\"\n",
    "GLOBAL_nMI = \"../reports/Global_MI_btw_covariates.tsv\"\n",
    "\n",
    "TISSUE_nMI = \"../reports/Tissue-specific_MI_between_PCs_and_covariates.xlsx\"\n",
    "TISSUE_PCA = \"../reports/Tissue-specific_PCA_explained_variance_ratios.tsv\"\n",
    "\n",
    "# Others\n",
    "RND_SEED = 161126  # for calculating MI"
   ]
  },
  {
   "cell_type": "markdown",
   "metadata": {},
   "source": [
    "# Load input data"
   ]
  },
  {
   "cell_type": "markdown",
   "metadata": {},
   "source": [
    "## Load expression data"
   ]
  },
  {
   "cell_type": "code",
   "execution_count": 158,
   "metadata": {
    "collapsed": false
   },
   "outputs": [
    {
     "name": "stdout",
     "output_type": "stream",
     "text": [
      "8525 samples.\n",
      "21146 genes.\n"
     ]
    }
   ],
   "source": [
    "samples = pd.read_table(SAMPLE_LIST, index_col=0, squeeze=True)  # a series (SAMPID -> SMTS)\n",
    "genes = pd.read_table(GENE_LIST, index_col=0, squeeze=True)  # a series (ENSG ID -> Description)\n",
    "\n",
    "print len(samples), 'samples.'\n",
    "print len(genes), 'genes.'"
   ]
  },
  {
   "cell_type": "code",
   "execution_count": 45,
   "metadata": {
    "collapsed": false
   },
   "outputs": [
    {
     "data": {
      "text/plain": [
       "(21146, 8525)"
      ]
     },
     "execution_count": 45,
     "metadata": {},
     "output_type": "execute_result"
    }
   ],
   "source": [
    "exprs = pd.read_table(EXPRESSION, header=2, index_col='Name', usecols=['Name'] + samples.index.tolist()).loc[genes.index]\n",
    "exprs = np.log2(exprs + 1)  # log2-transformed after adding a pseudo-count 1\n",
    "exprs.shape"
   ]
  },
  {
   "cell_type": "code",
   "execution_count": 46,
   "metadata": {
    "collapsed": false
   },
   "outputs": [],
   "source": [
    "# Test\n",
    "assert 'GTEX-1117F-0226-SM-5GZZ7' not in exprs  # not in data freeze due to Poor D-statistic\n",
    "assert 'GTEX-111CU-1826-SM-5GZYN' in exprs"
   ]
  },
  {
   "cell_type": "markdown",
   "metadata": {},
   "source": [
    "## Load phenotype data\n",
    "\n",
    "Date variables, no matter in Date format (ordinal) or String format (categorical), yield the same MI as long as they treated as discrete variables."
   ]
  },
  {
   "cell_type": "code",
   "execution_count": 139,
   "metadata": {
    "collapsed": false,
    "scrolled": true
   },
   "outputs": [
    {
     "name": "stdout",
     "output_type": "stream",
     "text": [
      "146 subject variables.\n",
      "62 sample variables.\n"
     ]
    }
   ],
   "source": [
    "subj_var = pd.read_table(SUBJ_VAR_LIST, index_col=0)  # a dataframe (name -> description, type)\n",
    "samp_var = pd.read_table(SAMP_VAR_LIST, index_col=0)  # a dataframe (name -> description, type)\n",
    "meta_var = pd.concat([subj_var, samp_var])\n",
    "\n",
    "print subj_var.shape[0], \"subject variables.\"\n",
    "print samp_var.shape[0], \"sample variables.\""
   ]
  },
  {
   "cell_type": "markdown",
   "metadata": {},
   "source": [
    "Join subject phenotype & sample attribute variables. (Note that 'SAMPID' variable is used as index)"
   ]
  },
  {
   "cell_type": "code",
   "execution_count": 140,
   "metadata": {
    "collapsed": false
   },
   "outputs": [
    {
     "name": "stdout",
     "output_type": "stream",
     "text": [
      "(#Samples, #Variables): (8525, 207)\n"
     ]
    }
   ],
   "source": [
    "pData1 = pd.read_table(PHENOTYPE1, index_col=\"SUBJID\", skiprows=10, usecols=subj_var.index)\n",
    "pData2 = pd.read_table(PHENOTYPE2, index_col=\"SAMPID\", skiprows=10, usecols=samp_var.index, \\\n",
    "                       parse_dates=['SMNABTCHD', 'SMGEBTCHD']).loc[samples.index]\n",
    "\n",
    "pData2['SUBJID'] = ['-'.join(i.split('-')[:2]) for i in pData2.index if i.startswith('GTEX')]  # get SUBJID from SAMPID\n",
    "pData = pData2.join(pData1, on=\"SUBJID\")  # join subject variables to sample variable dataframe\n",
    "print '(#Samples, #Variables):', pData.shape"
   ]
  },
  {
   "cell_type": "markdown",
   "metadata": {},
   "source": [
    "## Set categorical variables\n",
    "\n",
    "External variable type metadata -> Internal pandas dtypes, e.g., there are 4 types of variables in GTEx metadata:\n",
    "\n",
    "* `integer, encoded value`\n",
    "* `integer`\n",
    "* `decimal`\n",
    "* `string`\n",
    "\n",
    "Among them, `integer, encoded value` and `string` should be encoded as \"category\" in general.\n",
    "\n",
    "There could be some exceptions, e.g., `SMATSSCR` (Autolysis Score) is integer-encoded, but it is an ordinal category variable. In such case, no need to re-type them for Kendall's tau and tree-based algorithms. For mutual information, it makes no difference between ordinal or non-ordinal category variables, just make it as categorical then you are fine.\n",
    "\n",
    "Date variables are tricky. They should be encoded as date object so that the date order will be meaningful. However, if they were used for \"Batch date\", then the order of date doesn't really make any sense (close dates do not necessary mean the batches were \"close\"). In such cases, they should stay as string and be encoded as categorical variables."
   ]
  },
  {
   "cell_type": "code",
   "execution_count": 141,
   "metadata": {
    "collapsed": true
   },
   "outputs": [],
   "source": [
    "# Here we define a function that read pData and variable metadata to assign correct categorical dtype for each categorical variable.\n",
    "def set_categorical_dtype(pData, metadata):\n",
    "    \"\"\"Set categorical columns to categorical dtype.\n",
    "    \n",
    "    pData: pData dataframe.\n",
    "    metadata: variable metadata, including variable type.\n",
    "    \n",
    "    No return. Fix in place.\n",
    "    \"\"\"\n",
    "    for i,x in pData.iteritems():\n",
    "        if metadata.type[i] in ['string', 'integer, encoded value']:\n",
    "            pData[i] = x.astype('category')"
   ]
  },
  {
   "cell_type": "code",
   "execution_count": 142,
   "metadata": {
    "collapsed": false,
    "scrolled": false
   },
   "outputs": [
    {
     "name": "stdout",
     "output_type": "stream",
     "text": [
      "Now we have 207 variables:\n",
      "category    151\n",
      "float64      56\n",
      "dtype: int64\n"
     ]
    }
   ],
   "source": [
    "set_categorical_dtype(pData, meta_var)\n",
    "print 'Now we have', pData.shape[1], 'variables:'\n",
    "print pData.dtypes.value_counts()"
   ]
  },
  {
   "cell_type": "code",
   "execution_count": 185,
   "metadata": {
    "collapsed": true
   },
   "outputs": [],
   "source": [
    "pData.to_pickle(OUTPUT_PDATA)  # save for later use"
   ]
  },
  {
   "cell_type": "markdown",
   "metadata": {},
   "source": [
    "## Clean variables\n",
    "\n",
    "Here to discard those variables with too many missing values and to decide what to do with left missing values. We need following functions:\n",
    "\n",
    "1. `clean_variables(pData)`: Remove unqualified varialbes (too many missing values or invariant).\n",
    "2. `impute with mean for continous variables`: No need for categorical because pandas category automatically encodes nan as -1."
   ]
  },
  {
   "cell_type": "code",
   "execution_count": 145,
   "metadata": {
    "collapsed": false
   },
   "outputs": [],
   "source": [
    "def impute_pData(pData):\n",
    "    return pData.fillna(pData.mean(numeric_only=True))\n",
    "\n",
    "def clean_pData(pData, cutoff=0.1):\n",
    "    n, k = pData.shape  # n samples x k variables\n",
    "    \n",
    "    is_enough = lambda x: len(x.dropna()) > n * (1-cutoff)  # %missing values < cutoff\n",
    "    is_stateful = lambda x: n > len(set(x.dropna())) > 1  # no. states should be > 1 and < n\n",
    "    is_informative = lambda x: MI(x, x) > cutoff  # information content (entropy) > cutoff\n",
    "    is_variant = lambda x: np.std(x) > 0\n",
    "    \n",
    "    pass1 = [i for i,x in pData.select_dtypes(['category']).iteritems() if is_enough(x) and is_stateful(x) and is_informative(x)]\n",
    "    pass2 = [i for i,x in pData.select_dtypes([np.number]).iteritems()  if is_enough(x) and is_variant(x)]\n",
    "    print k, 'variables ->', len(pass1), 'categorical variables and', len(pass2), 'numeric variables.'\n",
    "        \n",
    "    return pData[sorted(pass1 + pass2)]"
   ]
  },
  {
   "cell_type": "markdown",
   "metadata": {},
   "source": [
    "# Global MI between variables\n",
    "\n",
    "Here we calculate pair-wise normalized mutual information for all variables using all samples. We will be able to see the global inter-dependency structure of covariates.\n",
    "\n",
    "Ref:\n",
    "* https://en.wikipedia.org/wiki/Mutual_information#Normalized_variants"
   ]
  },
  {
   "cell_type": "code",
   "execution_count": 865,
   "metadata": {
    "collapsed": false,
    "scrolled": false
   },
   "outputs": [
    {
     "name": "stdout",
     "output_type": "stream",
     "text": [
      "Input dataframe: 8525 samples x 146 features\n",
      "95 features are categorical\n",
      "Computing pair-wise MI ...\n",
      "Normalize MI ...\n"
     ]
    }
   ],
   "source": [
    "mat, mat2 = normalized_MI_matrix(impute_pData(clean_pData(pData)), seed=RND_SEED, verbose=True)\n",
    "\n",
    "mat.to_csv(GLOBAL_MI, sep=\"\\t\")  # MI matrix\n",
    "mat2.to_csv(GLOBAL_nMI, sep=\"\\t\")  # normalized MI matrix"
   ]
  },
  {
   "cell_type": "markdown",
   "metadata": {},
   "source": [
    "# Tissue-specific covariates"
   ]
  },
  {
   "cell_type": "code",
   "execution_count": 148,
   "metadata": {
    "collapsed": true
   },
   "outputs": [],
   "source": [
    "def pc_vs_covariates_MI(exprs, pData, npc=10):\n",
    "    # Run PCA\n",
    "    pca, exprs_new = run_pca(exprs.T, pc=npc)\n",
    "    print \"Total explained variance of top %d PCs: %.2f\" % (npc, pca.explained_variance_ratio_.sum())\n",
    "    \n",
    "    # Joined feature dataframe (PCs + variables)\n",
    "    assert all(exprs_new.index == pData.index)  # check data integrity\n",
    "    df = pd.concat([exprs_new, pData], axis=1)\n",
    "    \n",
    "    # Compute normalized MI matrix\n",
    "    mat, nmat = normalized_MI_matrix(df, seed=RND_SEED, verbose=True)  # MI, nMI\n",
    "\n",
    "    return pca, exprs_new, mat, nmat\n",
    "\n",
    "\n",
    "def run_all_tissues(exprs, samples, pData, TISSUE_nMI, TISSUE_PCA, MAPPED_PCA):\n",
    "    xlsx = pd.ExcelWriter(TISSUE_nMI)  # output: tissue-specific MI matrix as a multi-sheet excel file\n",
    "    pca_var = dict()  # explained variance ratio of top n PCs in each tissue\n",
    "    pc_dfs = []  # mapped PC dataframes\n",
    "\n",
    "    for tissue in samples.astype('category').cat.categories:\n",
    "        sub_samples = samples[samples == tissue].index\n",
    "        sub_exprs = exprs[sub_samples]\n",
    "        sub_pData = pData.loc[sub_samples]\n",
    "        sub_pData2 = impute_pData(clean_pData(sub_pData))\n",
    "\n",
    "        print '================================'\n",
    "        print tissue\n",
    "        print '================================'\n",
    "        print 'Expression data:', sub_exprs.shape\n",
    "        print 'Phenotype data:', sub_pData.shape\n",
    "        print 'Imputed pData:', sub_pData2.shape\n",
    "\n",
    "        pca, exprs_new, mat, mat2 = pc_vs_covariates_MI(sub_exprs, sub_pData2)\n",
    "\n",
    "        pca_var[tissue] = pca.explained_variance_ratio_\n",
    "        pc_dfs.append(exprs_new)\n",
    "        mat2.to_excel(xlsx, tissue)\n",
    "        print\n",
    "\n",
    "    xlsx.save()\n",
    "    xlsx.close()\n",
    "    pd.DataFrame(pca_var).to_csv(TISSUE_PCA2, sep=\"\\t\")\n",
    "    pd.concat(pc_dfs).to_csv(MAPPED_PCA, sep=\"\\t\")"
   ]
  },
  {
   "cell_type": "markdown",
   "metadata": {},
   "source": [
    "Iterate all tissues:"
   ]
  },
  {
   "cell_type": "code",
   "execution_count": 147,
   "metadata": {
    "collapsed": false,
    "scrolled": true
   },
   "outputs": [
    {
     "name": "stdout",
     "output_type": "stream",
     "text": [
      "207 variables -> 98 categorical variables and 53 numeric variables.\n",
      "================================\n",
      "Adipose Tissue\n",
      "================================\n",
      "Expression data: (21146, 577)\n",
      "Phenotype data: (577, 207)\n",
      "Imputed pData: (577, 151)\n",
      "Data dimensions (samples-by-features): (577, 21146)\n",
      "Variance explained by top 10 PCs: [ 0.15892685  0.14077131  0.06445746  0.0487673   0.038848    0.03683041\n",
      "  0.0302921   0.02412104  0.02005552  0.01581516]\n",
      "Total explained variance of top 10 PCs: 0.58\n",
      "Input dataframe: 577 samples x 161 features\n",
      "98 features are categorical\n",
      "Computing pair-wise MI ...\n",
      "Normalize MI ...\n",
      "\n",
      "207 variables -> 88 categorical variables and 55 numeric variables.\n",
      "================================\n",
      "Adrenal Gland\n",
      "================================\n",
      "Expression data: (21146, 145)\n",
      "Phenotype data: (145, 207)\n",
      "Imputed pData: (145, 143)\n",
      "Data dimensions (samples-by-features): (145, 21146)\n",
      "Variance explained by top 10 PCs: [ 0.15831179  0.09821024  0.0833971   0.05271907  0.03567548  0.03123482\n",
      "  0.02979179  0.02467147  0.02407093  0.01935258]\n",
      "Total explained variance of top 10 PCs: 0.56\n",
      "Input dataframe: 145 samples x 153 features\n",
      "88 features are categorical\n",
      "Computing pair-wise MI ...\n",
      "Normalize MI ...\n",
      "\n",
      "207 variables -> 143 categorical variables and 52 numeric variables.\n",
      "================================\n",
      "Blood\n",
      "================================\n",
      "Expression data: (21146, 511)\n",
      "Phenotype data: (511, 207)\n",
      "Imputed pData: (511, 195)\n",
      "Data dimensions (samples-by-features): (511, 21146)\n",
      "Variance explained by top 10 PCs: [ 0.60855129  0.10981379  0.07044027  0.0239757   0.01473755  0.01193065\n",
      "  0.00888041  0.00702562  0.00596075  0.00513306]\n",
      "Total explained variance of top 10 PCs: 0.87\n",
      "Input dataframe: 511 samples x 205 features\n",
      "143 features are categorical\n",
      "Computing pair-wise MI ...\n",
      "Normalize MI ...\n",
      "\n",
      "207 variables -> 102 categorical variables and 53 numeric variables.\n",
      "================================\n",
      "Blood Vessel\n",
      "================================\n",
      "Expression data: (21146, 689)\n",
      "Phenotype data: (689, 207)\n",
      "Imputed pData: (689, 155)\n",
      "Data dimensions (samples-by-features): (689, 21146)\n",
      "Variance explained by top 10 PCs: [ 0.20792625  0.10927092  0.07067095  0.04952433  0.03916346  0.03096583\n",
      "  0.02909217  0.02356022  0.02283135  0.01851985]\n",
      "Total explained variance of top 10 PCs: 0.60\n",
      "Input dataframe: 689 samples x 165 features\n",
      "102 features are categorical\n",
      "Computing pair-wise MI ...\n",
      "Normalize MI ...\n",
      "\n",
      "207 variables -> 79 categorical variables and 51 numeric variables.\n",
      "================================\n",
      "Brain\n",
      "================================\n",
      "Expression data: (21146, 1259)\n",
      "Phenotype data: (1259, 207)\n",
      "Imputed pData: (1259, 130)\n",
      "Data dimensions (samples-by-features): (1259, 21146)\n",
      "Variance explained by top 10 PCs: [ 0.37116357  0.1668999   0.08150254  0.05850247  0.03341506  0.02605313\n",
      "  0.02170531  0.01758905  0.01300181  0.01158625]\n",
      "Total explained variance of top 10 PCs: 0.80\n",
      "Input dataframe: 1259 samples x 140 features\n",
      "79 features are categorical\n",
      "Computing pair-wise MI ...\n",
      "Normalize MI ...\n",
      "\n",
      "207 variables -> 88 categorical variables and 53 numeric variables.\n",
      "================================\n",
      "Breast\n",
      "================================\n",
      "Expression data: (21146, 214)\n",
      "Phenotype data: (214, 207)\n",
      "Imputed pData: (214, 141)\n",
      "Data dimensions (samples-by-features): (214, 21146)\n",
      "Variance explained by top 10 PCs: [ 0.38297673  0.07291543  0.0494132   0.04169519  0.03175749  0.02791998\n",
      "  0.0210118   0.01965641  0.01789709  0.01566845]\n",
      "Total explained variance of top 10 PCs: 0.68\n",
      "Input dataframe: 214 samples x 151 features\n",
      "88 features are categorical\n",
      "Computing pair-wise MI ...\n",
      "Normalize MI ...\n",
      "\n",
      "207 variables -> 91 categorical variables and 53 numeric variables.\n",
      "================================\n",
      "Colon\n",
      "================================\n",
      "Expression data: (21146, 345)\n",
      "Phenotype data: (345, 207)\n",
      "Imputed pData: (345, 144)\n",
      "Data dimensions (samples-by-features): (345, 21146)\n",
      "Variance explained by top 10 PCs: [ 0.62321204  0.04983025  0.03778193  0.02722459  0.01897565  0.01414732\n",
      "  0.01245682  0.01230728  0.00944069  0.00790672]\n",
      "Total explained variance of top 10 PCs: 0.81\n",
      "Input dataframe: 345 samples x 154 features\n",
      "91 features are categorical\n",
      "Computing pair-wise MI ...\n",
      "Normalize MI ...\n",
      "\n",
      "207 variables -> 87 categorical variables and 53 numeric variables.\n",
      "================================\n",
      "Esophagus\n",
      "================================\n",
      "Expression data: (21146, 686)\n",
      "Phenotype data: (686, 207)\n",
      "Imputed pData: (686, 140)\n",
      "Data dimensions (samples-by-features): (686, 21146)\n",
      "Variance explained by top 10 PCs: [ 0.66603837  0.05357799  0.03011641  0.01731243  0.01327291  0.01273346\n",
      "  0.00954508  0.00904935  0.00862757  0.00710515]\n",
      "Total explained variance of top 10 PCs: 0.83\n",
      "Input dataframe: 686 samples x 150 features\n",
      "87 features are categorical\n",
      "Computing pair-wise MI ...\n",
      "Normalize MI ...\n",
      "\n",
      "207 variables -> 89 categorical variables and 53 numeric variables.\n",
      "================================\n",
      "Heart\n",
      "================================\n",
      "Expression data: (21146, 412)\n",
      "Phenotype data: (412, 207)\n",
      "Imputed pData: (412, 142)\n",
      "Data dimensions (samples-by-features): (412, 21146)\n",
      "Variance explained by top 10 PCs: [ 0.27898528  0.14364135  0.07700613  0.06603975  0.03068185  0.02690536\n",
      "  0.02220405  0.01619941  0.0148801   0.01431865]\n",
      "Total explained variance of top 10 PCs: 0.69\n",
      "Input dataframe: 412 samples x 152 features\n",
      "89 features are categorical\n",
      "Computing pair-wise MI ...\n",
      "Normalize MI ...\n",
      "\n",
      "207 variables -> 83 categorical variables and 53 numeric variables.\n",
      "================================\n",
      "Kidney\n",
      "================================\n",
      "Expression data: (21146, 32)\n",
      "Phenotype data: (32, 207)\n",
      "Imputed pData: (32, 136)\n",
      "Data dimensions (samples-by-features): (32, 21146)\n",
      "Variance explained by top 10 PCs: [ 0.30606432  0.149109    0.12831078  0.06304209  0.04705671  0.03953197\n",
      "  0.02789439  0.02482682  0.02007481  0.01670131]\n",
      "Total explained variance of top 10 PCs: 0.82\n",
      "Input dataframe: 32 samples x 146 features\n",
      "83 features are categorical\n",
      "Computing pair-wise MI ...\n",
      "Normalize MI ...\n",
      "\n",
      "207 variables -> 73 categorical variables and 53 numeric variables.\n",
      "================================\n",
      "Liver\n",
      "================================\n",
      "Expression data: (21146, 119)\n",
      "Phenotype data: (119, 207)\n",
      "Imputed pData: (119, 126)\n",
      "Data dimensions (samples-by-features): (119, 21146)\n",
      "Variance explained by top 10 PCs: [ 0.23230774  0.12775748  0.07261617  0.0494887   0.03872814  0.03006265\n",
      "  0.02703963  0.02047753  0.01944198  0.01728619]\n",
      "Total explained variance of top 10 PCs: 0.64\n",
      "Input dataframe: 119 samples x 136 features\n",
      "73 features are categorical\n",
      "Computing pair-wise MI ...\n",
      "Normalize MI ...\n",
      "\n",
      "207 variables -> 86 categorical variables and 53 numeric variables.\n",
      "================================\n",
      "Lung\n",
      "================================\n",
      "Expression data: (21146, 320)\n",
      "Phenotype data: (320, 207)\n",
      "Imputed pData: (320, 139)\n",
      "Data dimensions (samples-by-features): (320, 21146)\n",
      "Variance explained by top 10 PCs: [ 0.18019859  0.10409909  0.07300221  0.06328673  0.0407999   0.03425103\n",
      "  0.02891706  0.02545798  0.02283415  0.01753878]\n",
      "Total explained variance of top 10 PCs: 0.59\n",
      "Input dataframe: 320 samples x 149 features\n",
      "86 features are categorical\n",
      "Computing pair-wise MI ...\n",
      "Normalize MI ...\n",
      "\n",
      "207 variables -> 100 categorical variables and 53 numeric variables.\n",
      "================================\n",
      "Muscle\n",
      "================================\n",
      "Expression data: (21146, 430)\n",
      "Phenotype data: (430, 207)\n",
      "Imputed pData: (430, 153)\n",
      "Data dimensions (samples-by-features): (430, 21146)\n",
      "Variance explained by top 10 PCs: [ 0.23038935  0.12191202  0.05834562  0.03688385  0.03532838  0.03164254\n",
      "  0.02863597  0.02248285  0.02117688  0.01682042]\n",
      "Total explained variance of top 10 PCs: 0.60\n",
      "Input dataframe: 430 samples x 163 features\n",
      "100 features are categorical\n",
      "Computing pair-wise MI ...\n",
      "Normalize MI ...\n",
      "\n",
      "207 variables -> 92 categorical variables and 53 numeric variables.\n",
      "================================\n",
      "Nerve\n",
      "================================\n",
      "Expression data: (21146, 304)\n",
      "Phenotype data: (304, 207)\n",
      "Imputed pData: (304, 145)\n",
      "Data dimensions (samples-by-features): (304, 21146)\n",
      "Variance explained by top 10 PCs: [ 0.15474089  0.09383491  0.05986417  0.05538895  0.04842558  0.03609104\n",
      "  0.03103859  0.02939175  0.02207717  0.01816644]\n",
      "Total explained variance of top 10 PCs: 0.55\n",
      "Input dataframe: 304 samples x 155 features\n",
      "92 features are categorical\n",
      "Computing pair-wise MI ...\n",
      "Normalize MI ...\n",
      "\n",
      "207 variables -> 79 categorical variables and 53 numeric variables.\n",
      "================================\n",
      "Ovary\n",
      "================================\n",
      "Expression data: (21146, 97)\n",
      "Phenotype data: (97, 207)\n",
      "Imputed pData: (97, 132)\n",
      "Data dimensions (samples-by-features): (97, 21146)\n",
      "Variance explained by top 10 PCs: [ 0.15828339  0.08988181  0.08217282  0.07461444  0.04596086  0.04007258\n",
      "  0.03253669  0.027923    0.02420557  0.02350831]\n",
      "Total explained variance of top 10 PCs: 0.60\n",
      "Input dataframe: 97 samples x 142 features\n",
      "79 features are categorical\n",
      "Computing pair-wise MI ...\n",
      "Normalize MI ...\n",
      "\n",
      "207 variables -> 95 categorical variables and 56 numeric variables.\n",
      "================================\n",
      "Pancreas\n",
      "================================\n",
      "Expression data: (21146, 171)\n",
      "Phenotype data: (171, 207)\n",
      "Imputed pData: (171, 151)\n",
      "Data dimensions (samples-by-features): (171, 21146)\n",
      "Variance explained by top 10 PCs: [ 0.30863817  0.0733996   0.05888756  0.04580272  0.02907166  0.0250746\n",
      "  0.02015776  0.01895485  0.01580209  0.01476974]\n",
      "Total explained variance of top 10 PCs: 0.61\n",
      "Input dataframe: 171 samples x 161 features\n",
      "95 features are categorical\n",
      "Computing pair-wise MI ...\n",
      "Normalize MI ...\n",
      "\n",
      "207 variables -> 73 categorical variables and 53 numeric variables.\n",
      "================================\n",
      "Pituitary\n",
      "================================\n",
      "Expression data: (21146, 103)\n",
      "Phenotype data: (103, 207)\n",
      "Imputed pData: (103, 126)\n",
      "Data dimensions (samples-by-features): (103, 21146)\n",
      "Variance explained by top 10 PCs: [ 0.16331973  0.11262466  0.07750244  0.04849239  0.04484352  0.03737949\n",
      "  0.03152417  0.02732353  0.02638935  0.02196898]\n",
      "Total explained variance of top 10 PCs: 0.59\n",
      "Input dataframe: 103 samples x 136 features\n",
      "73 features are categorical\n",
      "Computing pair-wise MI ...\n",
      "Normalize MI ...\n",
      "\n",
      "207 variables -> 66 categorical variables and 53 numeric variables.\n",
      "================================\n",
      "Prostate\n",
      "================================\n",
      "Expression data: (21146, 106)\n",
      "Phenotype data: (106, 207)\n",
      "Imputed pData: (106, 119)\n",
      "Data dimensions (samples-by-features): (106, 21146)\n",
      "Variance explained by top 10 PCs: [ 0.19571979  0.11206671  0.08279523  0.0588004   0.04684694  0.0316169\n",
      "  0.02799182  0.02557161  0.02348222  0.02035447]\n",
      "Total explained variance of top 10 PCs: 0.63\n",
      "Input dataframe: 106 samples x 129 features\n",
      "66 features are categorical\n",
      "Computing pair-wise MI ...\n",
      "Normalize MI ...\n",
      "\n",
      "207 variables -> 66 categorical variables and 55 numeric variables.\n",
      "================================\n",
      "Salivary Gland\n",
      "================================\n",
      "Expression data: (21146, 57)\n",
      "Phenotype data: (57, 207)\n",
      "Imputed pData: (57, 121)\n",
      "Data dimensions (samples-by-features): (57, 21146)\n",
      "Variance explained by top 10 PCs: [ 0.27693142  0.19750982  0.10815303  0.04901397  0.03663115  0.02913607\n",
      "  0.02575384  0.02065206  0.01838472  0.01741163]\n",
      "Total explained variance of top 10 PCs: 0.78\n",
      "Input dataframe: 57 samples x 131 features\n",
      "66 features are categorical\n",
      "Computing pair-wise MI ...\n",
      "Normalize MI ...\n",
      "\n",
      "207 variables -> 111 categorical variables and 52 numeric variables.\n",
      "================================\n",
      "Skin\n",
      "================================\n",
      "Expression data: (21146, 890)\n",
      "Phenotype data: (890, 207)\n",
      "Imputed pData: (890, 163)\n",
      "Data dimensions (samples-by-features): (890, 21146)\n",
      "Variance explained by top 10 PCs: [ 0.64137536  0.04183168  0.03153911  0.02644172  0.01892003  0.0170332\n",
      "  0.01361835  0.01155517  0.01063514  0.00806067]\n",
      "Total explained variance of top 10 PCs: 0.82\n",
      "Input dataframe: 890 samples x 173 features\n",
      "111 features are categorical\n",
      "Computing pair-wise MI ...\n",
      "Normalize MI ...\n",
      "\n",
      "207 variables -> 90 categorical variables and 56 numeric variables.\n",
      "================================\n",
      "Small Intestine\n",
      "================================\n",
      "Expression data: (21146, 88)\n",
      "Phenotype data: (88, 207)\n",
      "Imputed pData: (88, 146)\n",
      "Data dimensions (samples-by-features): (88, 21146)\n",
      "Variance explained by top 10 PCs: [ 0.40356365  0.21663036  0.05465075  0.03220702  0.02438984  0.02116772\n",
      "  0.015991    0.01452774  0.01285527  0.01051254]\n",
      "Total explained variance of top 10 PCs: 0.81\n",
      "Input dataframe: 88 samples x 156 features\n",
      "90 features are categorical\n",
      "Computing pair-wise MI ...\n",
      "Normalize MI ...\n",
      "\n",
      "207 variables -> 108 categorical variables and 56 numeric variables.\n",
      "================================\n",
      "Spleen\n",
      "================================\n",
      "Expression data: (21146, 104)\n",
      "Phenotype data: (104, 207)\n",
      "Imputed pData: (104, 164)\n",
      "Data dimensions (samples-by-features): (104, 21146)\n",
      "Variance explained by top 10 PCs: [ 0.1320359   0.07642316  0.07235886  0.06173541  0.0527229   0.04324267\n",
      "  0.03538127  0.03326936  0.02596979  0.02219678]\n",
      "Total explained variance of top 10 PCs: 0.56\n",
      "Input dataframe: 104 samples x 174 features\n",
      "108 features are categorical\n",
      "Computing pair-wise MI ...\n",
      "Normalize MI ...\n",
      "\n",
      "207 variables -> 84 categorical variables and 53 numeric variables.\n",
      "================================\n",
      "Stomach\n",
      "================================\n",
      "Expression data: (21146, 192)\n",
      "Phenotype data: (192, 207)\n",
      "Imputed pData: (192, 137)\n",
      "Data dimensions (samples-by-features): (192, 21146)\n",
      "Variance explained by top 10 PCs: [ 0.52947631  0.06754673  0.04826835  0.03342268  0.02457803  0.01937811\n",
      "  0.01640197  0.01283187  0.01245772  0.00989526]\n",
      "Total explained variance of top 10 PCs: 0.77\n",
      "Input dataframe: 192 samples x 147 features\n",
      "84 features are categorical\n",
      "Computing pair-wise MI ...\n",
      "Normalize MI ...\n",
      "\n",
      "207 variables -> 73 categorical variables and 53 numeric variables.\n",
      "================================\n",
      "Testis\n",
      "================================\n",
      "Expression data: (21146, 172)\n",
      "Phenotype data: (172, 207)\n",
      "Imputed pData: (172, 126)\n",
      "Data dimensions (samples-by-features): (172, 21146)\n",
      "Variance explained by top 10 PCs: [ 0.35814179  0.0536551   0.04846404  0.03896193  0.03162606  0.02430365\n",
      "  0.0211702   0.01729216  0.01457394  0.01391963]\n",
      "Total explained variance of top 10 PCs: 0.62\n",
      "Input dataframe: 172 samples x 136 features\n",
      "73 features are categorical\n",
      "Computing pair-wise MI ...\n",
      "Normalize MI ...\n",
      "\n",
      "207 variables -> 83 categorical variables and 53 numeric variables.\n",
      "================================\n",
      "Thyroid\n",
      "================================\n",
      "Expression data: (21146, 323)\n",
      "Phenotype data: (323, 207)\n",
      "Imputed pData: (323, 136)\n",
      "Data dimensions (samples-by-features): (323, 21146)\n",
      "Variance explained by top 10 PCs: [ 0.12482604  0.07911093  0.07527505  0.05437503  0.0496161   0.03887301\n",
      "  0.0361938   0.02763849  0.02291551  0.01909056]\n",
      "Total explained variance of top 10 PCs: 0.53\n",
      "Input dataframe: 323 samples x 146 features\n",
      "83 features are categorical\n",
      "Computing pair-wise MI ...\n",
      "Normalize MI ...\n",
      "\n",
      "207 variables -> 76 categorical variables and 53 numeric variables.\n",
      "================================\n",
      "Uterus\n",
      "================================\n",
      "Expression data: (21146, 83)\n",
      "Phenotype data: (83, 207)\n",
      "Imputed pData: (83, 129)\n",
      "Data dimensions (samples-by-features): (83, 21146)\n",
      "Variance explained by top 10 PCs: [ 0.22071374  0.0971462   0.06501026  0.05712421  0.04590214  0.03559966\n",
      "  0.03369825  0.02695048  0.02346564  0.02010209]\n",
      "Total explained variance of top 10 PCs: 0.63\n",
      "Input dataframe: 83 samples x 139 features\n",
      "76 features are categorical\n",
      "Computing pair-wise MI ...\n",
      "Normalize MI ...\n",
      "\n",
      "207 variables -> 80 categorical variables and 53 numeric variables.\n",
      "================================\n",
      "Vagina\n",
      "================================\n",
      "Expression data: (21146, 96)\n",
      "Phenotype data: (96, 207)\n",
      "Imputed pData: (96, 133)\n",
      "Data dimensions (samples-by-features): (96, 21146)\n",
      "Variance explained by top 10 PCs: [ 0.48736293  0.07202512  0.0551418   0.03224422  0.02596112  0.01991597\n",
      "  0.01870186  0.01776537  0.01322106  0.01201328]\n",
      "Total explained variance of top 10 PCs: 0.75\n",
      "Input dataframe: 96 samples x 143 features\n",
      "80 features are categorical\n",
      "Computing pair-wise MI ...\n",
      "Normalize MI ...\n",
      "\n"
     ]
    }
   ],
   "source": [
    "run_all_tissues(exprs, samples, pData, TISSUE_nMI, TISSUE_PCA, MAPPED_PCA)"
   ]
  }
 ],
 "metadata": {
  "anaconda-cloud": {},
  "kernelspec": {
   "display_name": "Python [default]",
   "language": "python",
   "name": "python2"
  },
  "language_info": {
   "codemirror_mode": {
    "name": "ipython",
    "version": 2
   },
   "file_extension": ".py",
   "mimetype": "text/x-python",
   "name": "python",
   "nbconvert_exporter": "python",
   "pygments_lexer": "ipython2",
   "version": "2.7.12"
  },
  "notify_time": "5",
  "toc": {
   "nav_menu": {
    "height": "194px",
    "width": "252px"
   },
   "navigate_menu": true,
   "number_sections": true,
   "sideBar": true,
   "threshold": 4,
   "toc_cell": false,
   "toc_number_sections": true,
   "toc_position": {
    "height": "726px",
    "left": "0px",
    "right": "1303.2px",
    "top": "106px",
    "width": "212px"
   },
   "toc_section_display": "block",
   "toc_threshold": 6,
   "toc_window_display": true
  }
 },
 "nbformat": 4,
 "nbformat_minor": 0
}
